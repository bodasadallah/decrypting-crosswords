{
 "cells": [
  {
   "cell_type": "code",
   "execution_count": 18,
   "metadata": {},
   "outputs": [],
   "source": [
    "import pandas as pd\n",
    "\n",
    "\n",
    "df = pd.read_csv('data/georgo_ho_clues.csv')\n",
    "\n",
    "df  = df.loc[df['source'] == \n",
    "'times_xwd_times']\n"
   ]
  },
  {
   "cell_type": "code",
   "execution_count": 19,
   "metadata": {},
   "outputs": [
    {
     "data": {
      "text/plain": [
       "101240"
      ]
     },
     "execution_count": 19,
     "metadata": {},
     "output_type": "execute_result"
    }
   ],
   "source": [
    "len(df)"
   ]
  },
  {
   "cell_type": "code",
   "execution_count": 29,
   "metadata": {},
   "outputs": [],
   "source": [
    "\n",
    "for i, row in df.iterrows():\n",
    "    clue = row['clue'].split('(')[0].strip()\n",
    "    definition = str(row['definition'])\n",
    "    \n",
    "    df.at[i,'definition_length'] = len(definition.split(' '))\n",
    "    if clue.startswith(definition.strip()):\n",
    "        df.at[i,'definition_position'] = 'start'\n",
    "    elif clue.endswith(definition.strip()):\n",
    "        df.at[i,'definition_position'] = 'end'\n",
    "    else:\n",
    "        df.at[i,'definition_position'] = 'middle'\n",
    "\n",
    "    df.at[i,'def_length_pos_combined'] = str (df.at[i,'definition_length']) + str(df.at[i,'definition_position'])\n",
    "        "
   ]
  },
  {
   "cell_type": "code",
   "execution_count": 30,
   "metadata": {},
   "outputs": [],
   "source": [
    "df = df [['clue', 'definition', 'definition_length', 'definition_position', 'answer','def_length_pos_combined']]"
   ]
  },
  {
   "cell_type": "code",
   "execution_count": 31,
   "metadata": {},
   "outputs": [
    {
     "data": {
      "text/html": [
       "<div>\n",
       "<style scoped>\n",
       "    .dataframe tbody tr th:only-of-type {\n",
       "        vertical-align: middle;\n",
       "    }\n",
       "\n",
       "    .dataframe tbody tr th {\n",
       "        vertical-align: top;\n",
       "    }\n",
       "\n",
       "    .dataframe thead th {\n",
       "        text-align: right;\n",
       "    }\n",
       "</style>\n",
       "<table border=\"1\" class=\"dataframe\">\n",
       "  <thead>\n",
       "    <tr style=\"text-align: right;\">\n",
       "      <th></th>\n",
       "      <th>clue</th>\n",
       "      <th>definition</th>\n",
       "      <th>definition_length</th>\n",
       "      <th>definition_position</th>\n",
       "      <th>answer</th>\n",
       "      <th>def_length_pos_combined</th>\n",
       "    </tr>\n",
       "  </thead>\n",
       "  <tbody>\n",
       "    <tr>\n",
       "      <th>0</th>\n",
       "      <td>Acquisitive chap, as we see it (8)</td>\n",
       "      <td>Acquisitive</td>\n",
       "      <td>1.0</td>\n",
       "      <td>start</td>\n",
       "      <td>COVETOUS</td>\n",
       "      <td>1.0start</td>\n",
       "    </tr>\n",
       "    <tr>\n",
       "      <th>1</th>\n",
       "      <td>Back yard fencing weak and sagging (6)</td>\n",
       "      <td>sagging</td>\n",
       "      <td>1.0</td>\n",
       "      <td>end</td>\n",
       "      <td>DROOPY</td>\n",
       "      <td>1.0end</td>\n",
       "    </tr>\n",
       "    <tr>\n",
       "      <th>2</th>\n",
       "      <td>Stripping off uniform, love holding colonel's ...</td>\n",
       "      <td>Stripping</td>\n",
       "      <td>1.0</td>\n",
       "      <td>start</td>\n",
       "      <td>UNCLOTHING</td>\n",
       "      <td>1.0start</td>\n",
       "    </tr>\n",
       "    <tr>\n",
       "      <th>3</th>\n",
       "      <td>Without a mark where they should be gained (4)</td>\n",
       "      <td>where they should be gained</td>\n",
       "      <td>5.0</td>\n",
       "      <td>end</td>\n",
       "      <td>EXAM</td>\n",
       "      <td>5.0end</td>\n",
       "    </tr>\n",
       "    <tr>\n",
       "      <th>4</th>\n",
       "      <td>Put a stop to Rugby's foul school leader (5,2,...</td>\n",
       "      <td>Put a stop to</td>\n",
       "      <td>4.0</td>\n",
       "      <td>start</td>\n",
       "      <td>KNOCK ON THE HEAD</td>\n",
       "      <td>4.0start</td>\n",
       "    </tr>\n",
       "    <tr>\n",
       "      <th>...</th>\n",
       "      <td>...</td>\n",
       "      <td>...</td>\n",
       "      <td>...</td>\n",
       "      <td>...</td>\n",
       "      <td>...</td>\n",
       "      <td>...</td>\n",
       "    </tr>\n",
       "    <tr>\n",
       "      <th>627156</th>\n",
       "      <td>Copper abandoned remote obsession (8)</td>\n",
       "      <td>Copper abandoned</td>\n",
       "      <td>2.0</td>\n",
       "      <td>start</td>\n",
       "      <td>FARTHING</td>\n",
       "      <td>2.0start</td>\n",
       "    </tr>\n",
       "    <tr>\n",
       "      <th>627157</th>\n",
       "      <td>Stretch of land without a green? Keep out of i...</td>\n",
       "      <td>Keep out of it</td>\n",
       "      <td>4.0</td>\n",
       "      <td>end</td>\n",
       "      <td>NO-GO AREA</td>\n",
       "      <td>4.0end</td>\n",
       "    </tr>\n",
       "    <tr>\n",
       "      <th>627158</th>\n",
       "      <td>Kept short socks, initially coloured (7)</td>\n",
       "      <td>Kept short</td>\n",
       "      <td>2.0</td>\n",
       "      <td>start</td>\n",
       "      <td>STINTED</td>\n",
       "      <td>2.0start</td>\n",
       "    </tr>\n",
       "    <tr>\n",
       "      <th>627159</th>\n",
       "      <td>In surprise attack start to beat into a pulp (6)</td>\n",
       "      <td>surprise attack</td>\n",
       "      <td>2.0</td>\n",
       "      <td>middle</td>\n",
       "      <td>AMBUSH</td>\n",
       "      <td>2.0middle</td>\n",
       "    </tr>\n",
       "    <tr>\n",
       "      <th>627160</th>\n",
       "      <td>Make contact with skin, scraping the top: the ...</td>\n",
       "      <td>the reaction</td>\n",
       "      <td>2.0</td>\n",
       "      <td>middle</td>\n",
       "      <td>OUCH</td>\n",
       "      <td>2.0middle</td>\n",
       "    </tr>\n",
       "  </tbody>\n",
       "</table>\n",
       "<p>101240 rows × 6 columns</p>\n",
       "</div>"
      ],
      "text/plain": [
       "                                                     clue  \\\n",
       "0                      Acquisitive chap, as we see it (8)   \n",
       "1                  Back yard fencing weak and sagging (6)   \n",
       "2       Stripping off uniform, love holding colonel's ...   \n",
       "3          Without a mark where they should be gained (4)   \n",
       "4       Put a stop to Rugby's foul school leader (5,2,...   \n",
       "...                                                   ...   \n",
       "627156              Copper abandoned remote obsession (8)   \n",
       "627157  Stretch of land without a green? Keep out of i...   \n",
       "627158           Kept short socks, initially coloured (7)   \n",
       "627159   In surprise attack start to beat into a pulp (6)   \n",
       "627160  Make contact with skin, scraping the top: the ...   \n",
       "\n",
       "                         definition  definition_length definition_position  \\\n",
       "0                       Acquisitive                1.0               start   \n",
       "1                           sagging                1.0                 end   \n",
       "2                         Stripping                1.0               start   \n",
       "3       where they should be gained                5.0                 end   \n",
       "4                     Put a stop to                4.0               start   \n",
       "...                             ...                ...                 ...   \n",
       "627156             Copper abandoned                2.0               start   \n",
       "627157               Keep out of it                4.0                 end   \n",
       "627158                   Kept short                2.0               start   \n",
       "627159              surprise attack                2.0              middle   \n",
       "627160                 the reaction                2.0              middle   \n",
       "\n",
       "                   answer def_length_pos_combined  \n",
       "0                COVETOUS                1.0start  \n",
       "1                  DROOPY                  1.0end  \n",
       "2              UNCLOTHING                1.0start  \n",
       "3                    EXAM                  5.0end  \n",
       "4       KNOCK ON THE HEAD                4.0start  \n",
       "...                   ...                     ...  \n",
       "627156           FARTHING                2.0start  \n",
       "627157         NO-GO AREA                  4.0end  \n",
       "627158            STINTED                2.0start  \n",
       "627159             AMBUSH               2.0middle  \n",
       "627160               OUCH               2.0middle  \n",
       "\n",
       "[101240 rows x 6 columns]"
      ]
     },
     "execution_count": 31,
     "metadata": {},
     "output_type": "execute_result"
    }
   ],
   "source": [
    "df"
   ]
  },
  {
   "cell_type": "code",
   "execution_count": 28,
   "metadata": {},
   "outputs": [
    {
     "data": {
      "text/plain": [
       "definition_length\n",
       "1.0     49004\n",
       "2.0     26171\n",
       "3.0     13294\n",
       "4.0      6720\n",
       "5.0      2936\n",
       "6.0      1487\n",
       "7.0       793\n",
       "8.0       397\n",
       "9.0       248\n",
       "10.0      114\n",
       "11.0       51\n",
       "12.0       20\n",
       "13.0        4\n",
       "14.0        1\n",
       "Name: count, dtype: int64"
      ]
     },
     "execution_count": 28,
     "metadata": {},
     "output_type": "execute_result"
    }
   ],
   "source": [
    "df['definition_length'].value_counts()"
   ]
  },
  {
   "cell_type": "code",
   "execution_count": 27,
   "metadata": {},
   "outputs": [
    {
     "data": {
      "text/plain": [
       "definition_position\n",
       "start     48176\n",
       "end       40154\n",
       "middle    12910\n",
       "Name: count, dtype: int64"
      ]
     },
     "execution_count": 27,
     "metadata": {},
     "output_type": "execute_result"
    }
   ],
   "source": [
    "df['definition_position'].value_counts()"
   ]
  },
  {
   "cell_type": "code",
   "execution_count": 32,
   "metadata": {},
   "outputs": [
    {
     "data": {
      "text/plain": [
       "37"
      ]
     },
     "execution_count": 32,
     "metadata": {},
     "output_type": "execute_result"
    }
   ],
   "source": [
    "len(df['def_length_pos_combined'].value_counts())"
   ]
  },
  {
   "cell_type": "code",
   "execution_count": 42,
   "metadata": {},
   "outputs": [],
   "source": [
    "import math\n",
    "sampled_df = []\n",
    "for k,v in df['def_length_pos_combined'].value_counts().items():\n",
    "    n_elements = math.ceil(v/len(df) * 1000)\n",
    "    n_elements = int(n_elements)\n",
    "    sampled_df.append(df.loc[df['def_length_pos_combined'] == k].sample(n_elements))\n",
    "\n",
    "\n",
    "sampled_df = pd.concat(sampled_df)\n",
    "\n",
    "sampled_df = sampled_df.sample(1000).reset_index(drop=True)"
   ]
  },
  {
   "cell_type": "code",
   "execution_count": 48,
   "metadata": {},
   "outputs": [],
   "source": [
    "sampled_df = sampled_df.rename(columns={'clue':'Clue', 'definition':'Definition', 'answer':'Answer'})\n",
    "sampled_df.to_csv('data/georgo_ho_clues_sampled.csv', index=False)"
   ]
  },
  {
   "cell_type": "code",
   "execution_count": 49,
   "metadata": {},
   "outputs": [
    {
     "data": {
      "text/plain": [
       "(definition_position\n",
       " start     470\n",
       " end       397\n",
       " middle    133\n",
       " Name: count, dtype: int64,\n",
       " definition_length\n",
       " 1.0     473\n",
       " 2.0     255\n",
       " 3.0     131\n",
       " 4.0      68\n",
       " 5.0      30\n",
       " 6.0      15\n",
       " 7.0      10\n",
       " 8.0       5\n",
       " 9.0       4\n",
       " 10.0      2\n",
       " 12.0      2\n",
       " 13.0      2\n",
       " 11.0      2\n",
       " 14.0      1\n",
       " Name: count, dtype: int64)"
      ]
     },
     "execution_count": 49,
     "metadata": {},
     "output_type": "execute_result"
    }
   ],
   "source": [
    "sampled_df['definition_position'].value_counts(), sampled_df['definition_length'].value_counts()"
   ]
  },
  {
   "cell_type": "code",
   "execution_count": 17,
   "metadata": {},
   "outputs": [],
   "source": [
    "import pandas as pd\n",
    "results = []\n",
    "\n",
    "with open('results/definition_wordplay_extraction/chatgpt_eval_def_1k_samples.txt', 'r') as f:\n",
    "    for line in f:\n",
    "        results.append(line)\n",
    "\n",
    "sampled_df = pd.read_csv('data/georgo_ho_clues_sampled.csv')\n",
    "results = results[25:1025]\n"
   ]
  },
  {
   "cell_type": "code",
   "execution_count": 24,
   "metadata": {},
   "outputs": [
    {
     "data": {
      "text/plain": [
       "definition_position\n",
       "start     470\n",
       "end       397\n",
       "middle    133\n",
       "Name: count, dtype: int64"
      ]
     },
     "execution_count": 24,
     "metadata": {},
     "output_type": "execute_result"
    }
   ],
   "source": [
    "sampled_df['definition_position'].value_counts()"
   ]
  },
  {
   "cell_type": "code",
   "execution_count": 25,
   "metadata": {},
   "outputs": [
    {
     "name": "stdout",
     "output_type": "stream",
     "text": [
      "294\n",
      "0.6904761904761905\n",
      "0.20068027210884354\n",
      "0.10884353741496598\n"
     ]
    }
   ],
   "source": [
    "\n",
    "\n",
    "cnt = 0 \n",
    "begin = 0\n",
    "end = 0\n",
    "mid = 0\n",
    "for i,res in enumerate(results):\n",
    "    if ('✅') in res:\n",
    "        cnt += 1\n",
    "        assert res.split('|')[0].split('Clue:')[1].strip() == sampled_df.at[i,'Clue']\n",
    "        if sampled_df.at[i,'definition_position'] == 'start':\n",
    "            begin += 1\n",
    "        elif sampled_df.at[i,'definition_position'] == 'end':\n",
    "            end += 1\n",
    "        else:\n",
    "            mid += 1\n",
    "\n",
    "print(cnt)\n",
    "print(begin/294)\n",
    "print(end/294)\n",
    "print(mid/294)"
   ]
  }
 ],
 "metadata": {
  "kernelspec": {
   "display_name": "Python 3",
   "language": "python",
   "name": "python3"
  },
  "language_info": {
   "codemirror_mode": {
    "name": "ipython",
    "version": 3
   },
   "file_extension": ".py",
   "mimetype": "text/x-python",
   "name": "python",
   "nbconvert_exporter": "python",
   "pygments_lexer": "ipython3",
   "version": "3.10.12"
  }
 },
 "nbformat": 4,
 "nbformat_minor": 2
}
