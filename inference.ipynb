{
 "cells": [
  {
   "cell_type": "code",
   "execution_count": 1,
   "metadata": {},
   "outputs": [
    {
     "data": {
      "application/vnd.jupyter.widget-view+json": {
       "model_id": "c527953e3c324b1ea8ac4ea4e67c28e5",
       "version_major": 2,
       "version_minor": 0
      },
      "text/plain": [
       "Loading checkpoint shards:   0%|          | 0/2 [00:00<?, ?it/s]"
      ]
     },
     "metadata": {},
     "output_type": "display_data"
    }
   ],
   "source": [
    "from transformers import AutoTokenizer, AutoModelForCausalLM\n",
    "import torch\n",
    "from huggingface_hub import notebook_login\n",
    "from transformers import GenerationConfig, LlamaForCausalLM, LlamaTokenizer\n",
    "from datasets import load_from_disk\n",
    "import numpy as np\n",
    "from peft import PeftModel    \n",
    "\n",
    "\n",
    "MODEL_NAME = \"mistralai/Mistral-7B-v0.1\"\n",
    "adapters_name  = \"experiments/Mistral-7B-v0.1/checkpoint-8000\"\n",
    "\n",
    "\n",
    "model = AutoModelForCausalLM.from_pretrained(\n",
    "    MODEL_NAME,\n",
    "    return_dict=True,\n",
    "    load_in_4bit=True,\n",
    "    torch_dtype=torch.float16,\n",
    "    device_map=\"auto\",\n",
    ")\n",
    "     \n",
    "tokenizer = LlamaTokenizer.from_pretrained(MODEL_NAME)\n",
    "\n",
    "model = PeftModel.from_pretrained(model, adapters_name)\n"
   ]
  },
  {
   "cell_type": "code",
   "execution_count": 2,
   "metadata": {},
   "outputs": [],
   "source": [
    "\n",
    "def gen(model, text: str, tmp=.9, top_p=0.9, max_length=16,repetition_penalty=1.5):\n",
    "    inputs = tokenizer(text, return_tensors=\"pt\").to('cuda')\n",
    "    inputs_length = len(inputs[\"input_ids\"][0])\n",
    "    with torch.inference_mode():\n",
    "        outputs = model.generate(**inputs,\n",
    "                                max_new_tokens=max_length,\n",
    "                                do_sample=True,\n",
    "                                top_p=top_p,\n",
    "                                temperature=tmp,\n",
    "                                repetition_penalty=repetition_penalty\n",
    "                                )\n",
    "\n",
    "    return tokenizer.decode(outputs[0][inputs_length:], skip_special_tokens=True)"
   ]
  },
  {
   "cell_type": "code",
   "execution_count": 3,
   "metadata": {},
   "outputs": [],
   "source": [
    "val_dataset = load_from_disk('data/unique_targets')\n",
    "val_dataset = val_dataset['test']"
   ]
  },
  {
   "cell_type": "code",
   "execution_count": 14,
   "metadata": {},
   "outputs": [],
   "source": [
    "base_text = '''\n",
    "I will give you a cryptic crossword which is a crossword puzzle in which each clue is a word puzzle. Your task is to solve this clue. The number of charachters in the answer should be same as the numbers in the parenthesis in the clue.\n",
    "\n",
    "### Input:\n",
    "'''\n",
    "\n",
    "\n",
    "# text = 'Desk register taken no further than Ozzie? (7)'\n",
    "\n",
    "idx= np.random.randint(0,len(val_dataset),1)\n",
    "\n",
    "text = val_dataset.select(idx)['clue'][0]\n",
    "soln = val_dataset.select(idx)['labels'][0]"
   ]
  },
  {
   "cell_type": "code",
   "execution_count": 16,
   "metadata": {},
   "outputs": [
    {
     "name": "stderr",
     "output_type": "stream",
     "text": [
      "Setting `pad_token_id` to `eos_token_id`:2 for open-end generation.\n"
     ]
    },
    {
     "name": "stdout",
     "output_type": "stream",
     "text": [
      "--------------------\n",
      "--------------------\n",
      "\n",
      "I will give you a cryptic crossword which is a crossword puzzle in which each clue is a word puzzle. Your task is to solve this clue. The number of charachters in the answer should be same as the numbers in the parenthesis in the clue.\n",
      "\n",
      "### Input:\n",
      "\n",
      "I will give you a cryptic crossword which is a crossword puzzle in which each clue is a word puzzle. Your task is to solve this clue. The number of charachters in the answer should be same as the numbers in the parenthesis in the clue.\n",
      "\n",
      "### Input:\n",
      "\n",
      "I will give you a cryptic crossword which is a crossword puzzle in which each clue is a word puzzle. Your task is to solve this clue. The number of charachters in the answer should be same as the numbers in the parenthesis in the clue.\n",
      "\n",
      "### Input:\n",
      "\n",
      "I will give you a cryptic crossword which is a crossword puzzle in which each clue is a word puzzle. Your task is to solve this clue. The number of charachters in the answer should be same as the numbers in the parenthesis in the clue.\n",
      "\n",
      "### Input:\n",
      "The principle of variable thickness (5)    soln: ethic\n"
     ]
    },
    {
     "name": "stderr",
     "output_type": "stream",
     "text": [
      "Setting `pad_token_id` to `eos_token_id`:2 for open-end generation.\n"
     ]
    },
    {
     "name": "stdout",
     "output_type": "stream",
     "text": [
      "--------------------\n",
      "\n",
      "\n",
      "### Response:\n",
      "waisty? That's wrong! I\n",
      "--------------------\n",
      "--------------------\n",
      "--------------------\n",
      "\n",
      "I will give you a cryptic crossword which is a crossword puzzle in which each clue is a word puzzle. Your task is to solve this clue. The number of charachters in the answer should be same as the numbers in the parenthesis in the clue.\n",
      "\n",
      "### Input:\n",
      "\n",
      "I will give you a cryptic crossword which is a crossword puzzle in which each clue is a word puzzle. Your task is to solve this clue. The number of charachters in the answer should be same as the numbers in the parenthesis in the clue.\n",
      "\n",
      "### Input:\n",
      "\n",
      "I will give you a cryptic crossword which is a crossword puzzle in which each clue is a word puzzle. Your task is to solve this clue. The number of charachters in the answer should be same as the numbers in the parenthesis in the clue.\n",
      "\n",
      "### Input:\n",
      "\n",
      "I will give you a cryptic crossword which is a crossword puzzle in which each clue is a word puzzle. Your task is to solve this clue. The number of charachters in the answer should be same as the numbers in the parenthesis in the clue.\n",
      "\n",
      "### Input:\n",
      "\n",
      "I will give you a cryptic crossword which is a crossword puzzle in which each clue is a word puzzle. Your task is to solve this clue. The number of charachters in the answer should be same as the numbers in the parenthesis in the clue.\n",
      "\n",
      "### Input:\n",
      "The principle of variable thickness (5)    soln: ethic\n"
     ]
    },
    {
     "name": "stderr",
     "output_type": "stream",
     "text": [
      "Setting `pad_token_id` to `eos_token_id`:2 for open-end generation.\n"
     ]
    },
    {
     "name": "stdout",
     "output_type": "stream",
     "text": [
      "--------------------\n",
      "\n",
      "\n",
      "### Response:\n",
      "waisty? That's wrong! I\n",
      "--------------------\n",
      "--------------------\n",
      "--------------------\n",
      "\n",
      "I will give you a cryptic crossword which is a crossword puzzle in which each clue is a word puzzle. Your task is to solve this clue. The number of charachters in the answer should be same as the numbers in the parenthesis in the clue.\n",
      "\n",
      "### Input:\n",
      "\n",
      "I will give you a cryptic crossword which is a crossword puzzle in which each clue is a word puzzle. Your task is to solve this clue. The number of charachters in the answer should be same as the numbers in the parenthesis in the clue.\n",
      "\n",
      "### Input:\n",
      "\n",
      "I will give you a cryptic crossword which is a crossword puzzle in which each clue is a word puzzle. Your task is to solve this clue. The number of charachters in the answer should be same as the numbers in the parenthesis in the clue.\n",
      "\n",
      "### Input:\n",
      "\n",
      "I will give you a cryptic crossword which is a crossword puzzle in which each clue is a word puzzle. Your task is to solve this clue. The number of charachters in the answer should be same as the numbers in the parenthesis in the clue.\n",
      "\n",
      "### Input:\n",
      "\n",
      "I will give you a cryptic crossword which is a crossword puzzle in which each clue is a word puzzle. Your task is to solve this clue. The number of charachters in the answer should be same as the numbers in the parenthesis in the clue.\n",
      "\n",
      "### Input:\n",
      "\n",
      "I will give you a cryptic crossword which is a crossword puzzle in which each clue is a word puzzle. Your task is to solve this clue. The number of charachters in the answer should be same as the numbers in the parenthesis in the clue.\n",
      "\n",
      "### Input:\n",
      "The principle of variable thickness (5)    soln: ethic\n",
      "--------------------\n",
      "\n",
      "\n",
      "### Response:\n",
      "waisty? That's wrong! I\n",
      "--------------------\n"
     ]
    }
   ],
   "source": [
    "with open('outputs/mistral_unique_test.txt', 'a') as f:\n",
    "    for i in range(3):\n",
    "        print('-'*20)\n",
    "        # text = input(\"Enter a prompt: \")\n",
    "        print('-'*20)\n",
    "\n",
    "        text = base_text + text\n",
    "\n",
    "        # text = 'who are you?'\n",
    "        \n",
    "        f.write('='*30 + '\\n')\n",
    "        f.write(text + '\\n')\n",
    "        f.write('-'*20 + '\\n')\n",
    "\n",
    "        print(text,f'   soln: {soln}')\n",
    "        temps = [0.00001,.1,0.9]\n",
    "        top_ps = [0.9,0.5,0.2]\n",
    "    \n",
    "        output = gen(model, text, tmp=temps[i], top_p=top_ps[i], max_length=16,repetition_penalty=1.5)\n",
    "\n",
    "        output = output.replace('<newline>', '\\n')\n",
    "\n",
    "        f.write(output + '\\n')\n",
    "        f.write('='*30 + '\\n')\n",
    "        f.flush()\n",
    "\n",
    "        print('-'*20)\n",
    "        print(output)\n",
    "        \n",
    "        print('-'*20)"
   ]
  },
  {
   "cell_type": "code",
   "execution_count": null,
   "metadata": {},
   "outputs": [],
   "source": []
  }
 ],
 "metadata": {
  "kernelspec": {
   "display_name": "Python 3",
   "language": "python",
   "name": "python3"
  },
  "language_info": {
   "codemirror_mode": {
    "name": "ipython",
    "version": 3
   },
   "file_extension": ".py",
   "mimetype": "text/x-python",
   "name": "python",
   "nbconvert_exporter": "python",
   "pygments_lexer": "ipython3",
   "version": "3.10.12"
  },
  "orig_nbformat": 4
 },
 "nbformat": 4,
 "nbformat_minor": 2
}
