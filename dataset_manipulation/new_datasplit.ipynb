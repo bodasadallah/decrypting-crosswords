{
 "cells": [
  {
   "cell_type": "code",
   "execution_count": 22,
   "metadata": {},
   "outputs": [],
   "source": [
    "from datasets import load_dataset, concatenate_datasets,Dataset,DatasetDict\n",
    "import pandas as pd\n"
   ]
  },
  {
   "cell_type": "code",
   "execution_count": 3,
   "metadata": {},
   "outputs": [
    {
     "data": {
      "application/vnd.jupyter.widget-view+json": {
       "model_id": "b8a2208f014840ab87dcc3210fafdaa8",
       "version_major": 2,
       "version_minor": 0
      },
      "text/plain": [
       "Downloading data files:   0%|          | 0/1 [00:00<?, ?it/s]"
      ]
     },
     "metadata": {},
     "output_type": "display_data"
    },
    {
     "data": {
      "application/vnd.jupyter.widget-view+json": {
       "model_id": "157fdfc27c634fd9b03c8a1aa5ff8de8",
       "version_major": 2,
       "version_minor": 0
      },
      "text/plain": [
       "Extracting data files:   0%|          | 0/1 [00:00<?, ?it/s]"
      ]
     },
     "metadata": {},
     "output_type": "display_data"
    },
    {
     "data": {
      "application/vnd.jupyter.widget-view+json": {
       "model_id": "71e757bed2d04f699dd8eed91ca91dd4",
       "version_major": 2,
       "version_minor": 0
      },
      "text/plain": [
       "Generating train split: 0 examples [00:00, ? examples/s]"
      ]
     },
     "metadata": {},
     "output_type": "display_data"
    }
   ],
   "source": [
    "naive_train_dataset = load_dataset('json', data_files='data/clue_json/guardian/naive_random/train.json', split='train')\n",
    "\n",
    "naive_test_dataset = load_dataset('json', data_files='data/clue_json/guardian/naive_random/test.json', split='train')\n",
    "\n",
    "naive_val_dataset = load_dataset('json', data_files='data/clue_json/guardian/naive_random/val.json', split='train')"
   ]
  },
  {
   "cell_type": "code",
   "execution_count": 4,
   "metadata": {},
   "outputs": [],
   "source": [
    "disjoint_train_dataset = load_dataset('json', data_files='data/clue_json/guardian/word_initial_disjoint/train.json',split='train')\n",
    "disjoint_test_dataset = load_dataset('json', data_files='data/clue_json/guardian/word_initial_disjoint/test.json', split='train')\n",
    "disjoint_val_dataset = load_dataset('json', data_files='data/clue_json/guardian/word_initial_disjoint/val.json', split='train')"
   ]
  },
  {
   "cell_type": "code",
   "execution_count": 7,
   "metadata": {},
   "outputs": [],
   "source": [
    "\n",
    "concat_naive_dataset = concatenate_datasets([naive_train_dataset, naive_test_dataset, naive_val_dataset])\n",
    "concat_disjoint_dataset = concatenate_datasets([disjoint_train_dataset, disjoint_test_dataset, disjoint_val_dataset])\n",
    "\n",
    "concat_disjoint_train_val_dataset = concatenate_datasets([disjoint_train_dataset, disjoint_val_dataset])"
   ]
  },
  {
   "cell_type": "code",
   "execution_count": null,
   "metadata": {},
   "outputs": [],
   "source": [
    "concat_naive_dataset = concat_naive_dataset.shuffle().remove_columns('idx')\n",
    "concat_disjoint_train_val_dataset = concat_disjoint_train_val_dataset.shuffle().remove_columns('idx')\n"
   ]
  },
  {
   "cell_type": "code",
   "execution_count": 43,
   "metadata": {},
   "outputs": [
    {
     "name": "stdout",
     "output_type": "stream",
     "text": [
      "total length of naive dataste: 142380\n",
      "total length of disjoint dataste: 142380\n"
     ]
    }
   ],
   "source": [
    "print(f'total length of naive dataste: {len(concat_naive_dataset)}')\n",
    "print(f'total length of disjoint dataste: {len(concat_disjoint_dataset)}')"
   ]
  },
  {
   "cell_type": "code",
   "execution_count": 44,
   "metadata": {},
   "outputs": [],
   "source": [
    "concat_naive_df = pd.DataFrame(concat_naive_dataset).drop_duplicates('target')\n",
    "concat_disjoint_train_val_df= pd.DataFrame(concat_disjoint_train_val_dataset).drop_duplicates('target')\n",
    "disjoint_test_df = pd.DataFrame(disjoint_test_dataset).drop_duplicates('target')\n",
    "\n"
   ]
  },
  {
   "cell_type": "code",
   "execution_count": 53,
   "metadata": {},
   "outputs": [],
   "source": [
    "\n",
    "concat_half_disjoint_train_val_df = pd.DataFrame(concatenate_datasets([disjoint_train_dataset, disjoint_val_dataset])).groupby('target').sample(frac=0.51)\n",
    "half_disjoint_test_df = pd.DataFrame(disjoint_test_dataset).groupby('target').sample(frac=0.51)"
   ]
  },
  {
   "cell_type": "code",
   "execution_count": 57,
   "metadata": {},
   "outputs": [],
   "source": [
    "concat_half_disjoint_train_val_ds =  Dataset.from_pandas(concat_half_disjoint_train_val_df).rename_column ('input', 'clue').rename_column ('target', 'labels').shuffle()\n",
    "\n",
    "half_disjoint_test_ds =  Dataset.from_pandas(half_disjoint_test_df).rename_column ('input', 'clue').rename_column ('target', 'labels').shuffle()"
   ]
  },
  {
   "cell_type": "code",
   "execution_count": 60,
   "metadata": {},
   "outputs": [],
   "source": [
    "concat_half_disjoint_train_val_ds = concat_half_disjoint_train_val_ds.remove_columns('idx')"
   ]
  },
  {
   "cell_type": "code",
   "execution_count": 61,
   "metadata": {},
   "outputs": [],
   "source": [
    "half_disjoint_ds = DatasetDict({'train':concat_half_disjoint_train_val_ds, 'test':half_disjoint_test_ds}).remove_columns('__index_level_0__')"
   ]
  },
  {
   "cell_type": "code",
   "execution_count": 46,
   "metadata": {},
   "outputs": [],
   "source": [
    "concat_naive_ds = Dataset.from_pandas(concat_naive_df).rename_column ('input', 'clue').rename_column ('target', 'labels').shuffle()\n",
    "\n",
    "\n",
    "concat_disjoint_train_val_ds = Dataset.from_pandas(concat_disjoint_train_val_df).rename_column ('input', 'clue').rename_column ('target', 'labels').shuffle()\n",
    "\n",
    "disjoint_test_ds = Dataset.from_pandas(disjoint_test_df).rename_column ('input', 'clue').rename_column ('target', 'labels').shuffle()\n",
    "\n",
    "\n"
   ]
  },
  {
   "cell_type": "code",
   "execution_count": 47,
   "metadata": {},
   "outputs": [],
   "source": [
    "disjoint_unique_ds = DatasetDict({'train':concat_disjoint_train_val_ds, 'test':disjoint_test_ds}).remove_columns('__index_level_0__')"
   ]
  },
  {
   "cell_type": "code",
   "execution_count": 48,
   "metadata": {},
   "outputs": [],
   "source": [
    "naive_unique_ds = concat_naive_ds.train_test_split(test_size=0.15, shuffle=True).remove_columns('__index_level_0__')"
   ]
  },
  {
   "cell_type": "code",
   "execution_count": 62,
   "metadata": {},
   "outputs": [
    {
     "data": {
      "text/plain": [
       "DatasetDict({\n",
       "    train: Dataset({\n",
       "        features: ['labels', 'clue'],\n",
       "        num_rows: 69339\n",
       "    })\n",
       "    test: Dataset({\n",
       "        features: ['clue', 'labels'],\n",
       "        num_rows: 21707\n",
       "    })\n",
       "})"
      ]
     },
     "execution_count": 62,
     "metadata": {},
     "output_type": "execute_result"
    }
   ],
   "source": [
    "half_disjoint_ds"
   ]
  },
  {
   "cell_type": "code",
   "execution_count": 49,
   "metadata": {},
   "outputs": [
    {
     "data": {
      "text/plain": [
       "DatasetDict({\n",
       "    train: Dataset({\n",
       "        features: ['labels', 'clue'],\n",
       "        num_rows: 42793\n",
       "    })\n",
       "    test: Dataset({\n",
       "        features: ['clue', 'labels'],\n",
       "        num_rows: 13495\n",
       "    })\n",
       "})"
      ]
     },
     "execution_count": 49,
     "metadata": {},
     "output_type": "execute_result"
    }
   ],
   "source": [
    "disjoint_unique_ds"
   ]
  },
  {
   "cell_type": "code",
   "execution_count": 50,
   "metadata": {},
   "outputs": [
    {
     "data": {
      "text/plain": [
       "DatasetDict({\n",
       "    train: Dataset({\n",
       "        features: ['labels', 'clue'],\n",
       "        num_rows: 47844\n",
       "    })\n",
       "    test: Dataset({\n",
       "        features: ['labels', 'clue'],\n",
       "        num_rows: 8444\n",
       "    })\n",
       "})"
      ]
     },
     "execution_count": 50,
     "metadata": {},
     "output_type": "execute_result"
    }
   ],
   "source": [
    "naive_unique_ds"
   ]
  },
  {
   "cell_type": "code",
   "execution_count": null,
   "metadata": {},
   "outputs": [],
   "source": []
  },
  {
   "cell_type": "code",
   "execution_count": 63,
   "metadata": {},
   "outputs": [
    {
     "data": {
      "application/vnd.jupyter.widget-view+json": {
       "model_id": "1470486263f24e6691baeb2b8de98612",
       "version_major": 2,
       "version_minor": 0
      },
      "text/plain": [
       "Pushing dataset shards to the dataset hub:   0%|          | 0/1 [00:00<?, ?it/s]"
      ]
     },
     "metadata": {},
     "output_type": "display_data"
    },
    {
     "data": {
      "application/vnd.jupyter.widget-view+json": {
       "model_id": "00e86f7ba0ca4ade9a3d0fc5db4bddce",
       "version_major": 2,
       "version_minor": 0
      },
      "text/plain": [
       "Creating parquet from Arrow format:   0%|          | 0/70 [00:00<?, ?ba/s]"
      ]
     },
     "metadata": {},
     "output_type": "display_data"
    },
    {
     "data": {
      "application/vnd.jupyter.widget-view+json": {
       "model_id": "1a5429b868994825962b29cf57b3f7a5",
       "version_major": 2,
       "version_minor": 0
      },
      "text/plain": [
       "Pushing dataset shards to the dataset hub:   0%|          | 0/1 [00:00<?, ?it/s]"
      ]
     },
     "metadata": {},
     "output_type": "display_data"
    },
    {
     "data": {
      "application/vnd.jupyter.widget-view+json": {
       "model_id": "8f5b9d8922e74e4ebee79d6b154c8efe",
       "version_major": 2,
       "version_minor": 0
      },
      "text/plain": [
       "Creating parquet from Arrow format:   0%|          | 0/22 [00:00<?, ?ba/s]"
      ]
     },
     "metadata": {},
     "output_type": "display_data"
    }
   ],
   "source": [
    "# disjoint_unique_ds.push_to_hub('boda/word_init_disjoint_unique')\n",
    "# naive_unique_ds.push_to_hub('boda/naive_random_unique')\n",
    "half_disjoint_ds.push_to_hub('boda/word_init_disjoint_half')"
   ]
  },
  {
   "cell_type": "code",
   "execution_count": 64,
   "metadata": {},
   "outputs": [
    {
     "data": {
      "application/vnd.jupyter.widget-view+json": {
       "model_id": "930c9fb96ca0467c9c70ea4bd02878a2",
       "version_major": 2,
       "version_minor": 0
      },
      "text/plain": [
       "Downloading readme:   0%|          | 0.00/605 [00:00<?, ?B/s]"
      ]
     },
     "metadata": {},
     "output_type": "display_data"
    },
    {
     "data": {
      "application/vnd.jupyter.widget-view+json": {
       "model_id": "a3db8b9666224d4ea3e6facf8b2599a8",
       "version_major": 2,
       "version_minor": 0
      },
      "text/plain": [
       "Downloading data files:   0%|          | 0/2 [00:00<?, ?it/s]"
      ]
     },
     "metadata": {},
     "output_type": "display_data"
    },
    {
     "data": {
      "application/vnd.jupyter.widget-view+json": {
       "model_id": "91b8a056f5e640558376b1096c66983e",
       "version_major": 2,
       "version_minor": 0
      },
      "text/plain": [
       "Downloading data:   0%|          | 0.00/2.37M [00:00<?, ?B/s]"
      ]
     },
     "metadata": {},
     "output_type": "display_data"
    },
    {
     "data": {
      "application/vnd.jupyter.widget-view+json": {
       "model_id": "f01605cb5e53419db1baac2f883e023d",
       "version_major": 2,
       "version_minor": 0
      },
      "text/plain": [
       "Downloading data:   0%|          | 0.00/422k [00:00<?, ?B/s]"
      ]
     },
     "metadata": {},
     "output_type": "display_data"
    },
    {
     "data": {
      "application/vnd.jupyter.widget-view+json": {
       "model_id": "0882136531e54fc6905c90eb68dd5fa2",
       "version_major": 2,
       "version_minor": 0
      },
      "text/plain": [
       "Extracting data files:   0%|          | 0/2 [00:00<?, ?it/s]"
      ]
     },
     "metadata": {},
     "output_type": "display_data"
    },
    {
     "data": {
      "application/vnd.jupyter.widget-view+json": {
       "model_id": "955b578aea934279a38e57013c017cdc",
       "version_major": 2,
       "version_minor": 0
      },
      "text/plain": [
       "Generating train split:   0%|          | 0/47844 [00:00<?, ? examples/s]"
      ]
     },
     "metadata": {},
     "output_type": "display_data"
    },
    {
     "data": {
      "application/vnd.jupyter.widget-view+json": {
       "model_id": "d452e36c76544b229f61dbde8d1d39e2",
       "version_major": 2,
       "version_minor": 0
      },
      "text/plain": [
       "Generating test split:   0%|          | 0/8444 [00:00<?, ? examples/s]"
      ]
     },
     "metadata": {},
     "output_type": "display_data"
    },
    {
     "data": {
      "application/vnd.jupyter.widget-view+json": {
       "model_id": "2f4a8d128da347a6af4009e416062913",
       "version_major": 2,
       "version_minor": 0
      },
      "text/plain": [
       "Downloading readme:   0%|          | 0.00/594 [00:00<?, ?B/s]"
      ]
     },
     "metadata": {},
     "output_type": "display_data"
    },
    {
     "data": {
      "application/vnd.jupyter.widget-view+json": {
       "model_id": "e20716fa5c244b5f93980befa90ef747",
       "version_major": 2,
       "version_minor": 0
      },
      "text/plain": [
       "Downloading data files:   0%|          | 0/2 [00:00<?, ?it/s]"
      ]
     },
     "metadata": {},
     "output_type": "display_data"
    },
    {
     "data": {
      "application/vnd.jupyter.widget-view+json": {
       "model_id": "bf557363af654080a8c565daff6fdf13",
       "version_major": 2,
       "version_minor": 0
      },
      "text/plain": [
       "Downloading data:   0%|          | 0.00/2.12M [00:00<?, ?B/s]"
      ]
     },
     "metadata": {},
     "output_type": "display_data"
    },
    {
     "data": {
      "application/vnd.jupyter.widget-view+json": {
       "model_id": "56af03a6d4f54bdf94afc83683d81198",
       "version_major": 2,
       "version_minor": 0
      },
      "text/plain": [
       "Downloading data:   0%|          | 0.00/666k [00:00<?, ?B/s]"
      ]
     },
     "metadata": {},
     "output_type": "display_data"
    },
    {
     "data": {
      "application/vnd.jupyter.widget-view+json": {
       "model_id": "8e3fda140e564d5b88e169b02ecc5606",
       "version_major": 2,
       "version_minor": 0
      },
      "text/plain": [
       "Extracting data files:   0%|          | 0/2 [00:00<?, ?it/s]"
      ]
     },
     "metadata": {},
     "output_type": "display_data"
    },
    {
     "data": {
      "application/vnd.jupyter.widget-view+json": {
       "model_id": "d6f549defc6041c3b54d47ea111da340",
       "version_major": 2,
       "version_minor": 0
      },
      "text/plain": [
       "Generating train split:   0%|          | 0/42793 [00:00<?, ? examples/s]"
      ]
     },
     "metadata": {},
     "output_type": "display_data"
    },
    {
     "data": {
      "application/vnd.jupyter.widget-view+json": {
       "model_id": "bfa5ab9768f746e4ad6df699c16b7131",
       "version_major": 2,
       "version_minor": 0
      },
      "text/plain": [
       "Generating test split:   0%|          | 0/13495 [00:00<?, ? examples/s]"
      ]
     },
     "metadata": {},
     "output_type": "display_data"
    },
    {
     "data": {
      "application/vnd.jupyter.widget-view+json": {
       "model_id": "a9c9053651184f059ec23c0c9ce7d988",
       "version_major": 2,
       "version_minor": 0
      },
      "text/plain": [
       "Downloading readme:   0%|          | 0.00/593 [00:00<?, ?B/s]"
      ]
     },
     "metadata": {},
     "output_type": "display_data"
    },
    {
     "data": {
      "application/vnd.jupyter.widget-view+json": {
       "model_id": "4674dfe8f13047f9835e507b45a72f25",
       "version_major": 2,
       "version_minor": 0
      },
      "text/plain": [
       "Downloading data files:   0%|          | 0/2 [00:00<?, ?it/s]"
      ]
     },
     "metadata": {},
     "output_type": "display_data"
    },
    {
     "data": {
      "application/vnd.jupyter.widget-view+json": {
       "model_id": "4b1b1ae98ed04829b0b42ddf28bdeaf9",
       "version_major": 2,
       "version_minor": 0
      },
      "text/plain": [
       "Downloading data:   0%|          | 0.00/3.29M [00:00<?, ?B/s]"
      ]
     },
     "metadata": {},
     "output_type": "display_data"
    },
    {
     "data": {
      "application/vnd.jupyter.widget-view+json": {
       "model_id": "a7e1d7aa30fa43d9a06646b18cac1e9b",
       "version_major": 2,
       "version_minor": 0
      },
      "text/plain": [
       "Downloading data:   0%|          | 0.00/1.02M [00:00<?, ?B/s]"
      ]
     },
     "metadata": {},
     "output_type": "display_data"
    },
    {
     "data": {
      "application/vnd.jupyter.widget-view+json": {
       "model_id": "51c099d076f3443e8b1e47fad0a9b40b",
       "version_major": 2,
       "version_minor": 0
      },
      "text/plain": [
       "Extracting data files:   0%|          | 0/2 [00:00<?, ?it/s]"
      ]
     },
     "metadata": {},
     "output_type": "display_data"
    },
    {
     "data": {
      "application/vnd.jupyter.widget-view+json": {
       "model_id": "ce2fc333c6984aa18b6a48be71d1c203",
       "version_major": 2,
       "version_minor": 0
      },
      "text/plain": [
       "Generating train split:   0%|          | 0/69339 [00:00<?, ? examples/s]"
      ]
     },
     "metadata": {},
     "output_type": "display_data"
    },
    {
     "data": {
      "application/vnd.jupyter.widget-view+json": {
       "model_id": "15c561b0955143cfbfafdab91b011a3e",
       "version_major": 2,
       "version_minor": 0
      },
      "text/plain": [
       "Generating test split:   0%|          | 0/21707 [00:00<?, ? examples/s]"
      ]
     },
     "metadata": {},
     "output_type": "display_data"
    }
   ],
   "source": [
    "############################ Sanity checks ############################\n",
    "\n",
    "naive_unique = load_dataset('boda/naive_random_unique')\n",
    "disjoint_unique = load_dataset('boda/word_init_disjoint_unique')\n",
    "disjoint_half = load_dataset('boda/word_init_disjoint_half')"
   ]
  },
  {
   "cell_type": "code",
   "execution_count": 100,
   "metadata": {},
   "outputs": [],
   "source": [
    "############################ naive unique ############################\n",
    "assert len(naive_unique['train']) +  len(naive_unique['test'])  == len(concat_naive_dataset.unique('target'))\n",
    "\n",
    "\n",
    "\n",
    "############################ disjoint unique ############################\n",
    "assert len(disjoint_unique['train']) == len(concat_disjoint_train_val_dataset.unique('target'))\n",
    "assert len(disjoint_unique['test']) == len(disjoint_test_dataset.unique('target'))\n",
    "\n"
   ]
  },
  {
   "cell_type": "code",
   "execution_count": 105,
   "metadata": {},
   "outputs": [],
   "source": [
    "############################## word init disjoint half ############################\n",
    "\n",
    "\n",
    "disjoint_test_dataset_df = pd.DataFrame(concat_disjoint_dataset)\n",
    "disjoint_half_df  =  pd.DataFrame(disjoint_half['train'])\n"
   ]
  },
  {
   "cell_type": "code",
   "execution_count": 106,
   "metadata": {},
   "outputs": [],
   "source": [
    "sources = disjoint_half_df.value_counts('labels')\n",
    "targets = disjoint_test_dataset_df.value_counts('target')"
   ]
  },
  {
   "cell_type": "code",
   "execution_count": 107,
   "metadata": {},
   "outputs": [],
   "source": [
    "percentage = 0.0\n",
    "for source in sources.index:\n",
    "    percentage += sources[source]/targets[source]\n",
    "\n",
    "percentage = percentage/len(disjoint_half_df)"
   ]
  },
  {
   "cell_type": "code",
   "execution_count": 108,
   "metadata": {},
   "outputs": [
    {
     "data": {
      "text/plain": [
       "0.4850919254446572"
      ]
     },
     "execution_count": 108,
     "metadata": {},
     "output_type": "execute_result"
    }
   ],
   "source": [
    "percentage"
   ]
  },
  {
   "cell_type": "code",
   "execution_count": null,
   "metadata": {},
   "outputs": [],
   "source": []
  }
 ],
 "metadata": {
  "kernelspec": {
   "display_name": "Python 3",
   "language": "python",
   "name": "python3"
  },
  "language_info": {
   "codemirror_mode": {
    "name": "ipython",
    "version": 3
   },
   "file_extension": ".py",
   "mimetype": "text/x-python",
   "name": "python",
   "nbconvert_exporter": "python",
   "pygments_lexer": "ipython3",
   "version": "3.10.12"
  },
  "orig_nbformat": 4
 },
 "nbformat": 4,
 "nbformat_minor": 2
}
