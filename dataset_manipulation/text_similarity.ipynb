{
 "cells": [
  {
   "cell_type": "code",
   "execution_count": 2,
   "metadata": {},
   "outputs": [
    {
     "name": "stderr",
     "output_type": "stream",
     "text": [
      "/home/abdelrahman.sadallah/mambaforge/envs/nlp/lib/python3.10/site-packages/torch/cuda/__init__.py:546: UserWarning: Can't initialize NVML\n",
      "  warnings.warn(\"Can't initialize NVML\")\n"
     ]
    }
   ],
   "source": [
    "from sentence_transformers import SentenceTransformer, util\n",
    "\n",
    "\n",
    "\n",
    "model = SentenceTransformer('sentence-transformers/all-MiniLM-L6-v2')\n",
    "\n"
   ]
  },
  {
   "cell_type": "code",
   "execution_count": 4,
   "metadata": {},
   "outputs": [
    {
     "name": "stderr",
     "output_type": "stream",
     "text": [
      "  0%|          | 0/24 [00:00<?, ?it/s]"
     ]
    },
    {
     "name": "stdout",
     "output_type": "stream",
     "text": [
      "outputs/new_experiments/base_prompt/Llama/naive_random_10_shot_random.txt\n"
     ]
    },
    {
     "name": "stderr",
     "output_type": "stream",
     "text": [
      "100%|██████████| 142371/142371 [06:42<00:00, 353.90it/s]\n",
      "  4%|▍         | 1/24 [06:42<2:34:13, 402.33s/it]"
     ]
    },
    {
     "name": "stdout",
     "output_type": "stream",
     "text": [
      "outputs/new_experiments/base_prompt/Llama/word_init_disjoint_half.txt\n"
     ]
    },
    {
     "name": "stderr",
     "output_type": "stream",
     "text": [
      "100%|██████████| 103739/103739 [04:48<00:00, 358.96it/s]\n",
      "  8%|▊         | 2/24 [11:31<2:03:04, 335.68s/it]"
     ]
    },
    {
     "name": "stdout",
     "output_type": "stream",
     "text": [
      "outputs/new_experiments/base_prompt/Llama/naive_random_unique.txt\n"
     ]
    },
    {
     "name": "stderr",
     "output_type": "stream",
     "text": [
      "100%|██████████| 41928/41928 [02:02<00:00, 341.49it/s]\n",
      " 12%|█▎        | 3/24 [13:34<1:23:27, 238.47s/it]"
     ]
    },
    {
     "name": "stdout",
     "output_type": "stream",
     "text": [
      "outputs/new_experiments/base_prompt/Llama/naive_random.txt\n"
     ]
    },
    {
     "name": "stderr",
     "output_type": "stream",
     "text": [
      "  0%|          | 0/134137 [00:00<?, ?it/s]\n",
      " 12%|█▎        | 3/24 [13:34<1:34:59, 271.40s/it]"
     ]
    },
    {
     "name": "stdout",
     "output_type": "stream",
     "text": [
      "---------------------------------------------------------------------------------- \n",
      "\n"
     ]
    },
    {
     "name": "stderr",
     "output_type": "stream",
     "text": [
      "\n"
     ]
    },
    {
     "ename": "IndexError",
     "evalue": "list index out of range",
     "output_type": "error",
     "traceback": [
      "\u001b[0;31m---------------------------------------------------------------------------\u001b[0m",
      "\u001b[0;31mIndexError\u001b[0m                                Traceback (most recent call last)",
      "Cell \u001b[0;32mIn[4], line 44\u001b[0m\n\u001b[1;32m     42\u001b[0m \u001b[39mif\u001b[39;00m \u001b[39mlen\u001b[39m(line_segments)\u001b[39m<\u001b[39m \u001b[39m2\u001b[39m:\n\u001b[1;32m     43\u001b[0m     \u001b[39mprint\u001b[39m(line)\n\u001b[0;32m---> 44\u001b[0m label \u001b[39m=\u001b[39m \u001b[39m'\u001b[39m\u001b[39m \u001b[39m\u001b[39m'\u001b[39m\u001b[39m.\u001b[39mjoin(line_segments[\u001b[39m1\u001b[39;49m]\u001b[39m.\u001b[39msplit(\u001b[39m'\u001b[39m\u001b[39m \u001b[39m\u001b[39m'\u001b[39m)[\u001b[39m1\u001b[39m:\u001b[39m-\u001b[39m\u001b[39m3\u001b[39m])\u001b[39m.\u001b[39mstrip()\n\u001b[1;32m     45\u001b[0m prediction \u001b[39m=\u001b[39m line_segments[\u001b[39m0\u001b[39m]\u001b[39m.\u001b[39mstrip()\n\u001b[1;32m     47\u001b[0m \u001b[39m### Only consider the wrong examples\u001b[39;00m\n",
      "\u001b[0;31mIndexError\u001b[0m: list index out of range"
     ]
    }
   ],
   "source": [
    "import os\n",
    "from tqdm import tqdm\n",
    "import json\n",
    "similarities_dict = []\n",
    "\n",
    "base_dirs  = ['outputs/new_experiments/base_prompt','outputs/new_experiments/extensive_prompt']\n",
    "\n",
    "\n",
    "for base_dir in base_dirs:\n",
    "    files = []\n",
    "    for fname in os.listdir(base_dir):\n",
    "        folder_path = os.path.join(base_dir, fname)\n",
    "        if os.path.isdir(folder_path):\n",
    "            for file_name in os.listdir(folder_path):\n",
    "                file_path = os.path.join(folder_path, file_name)\n",
    "                if file_path.endswith('.txt'):\n",
    "                    files.append(file_path)\n",
    "\n",
    "\n",
    "    # files = ['/home/abdelrahman.sadallah/mbzuai/decrypting-crosswords/llms/outputs/new_experiments/base_prompt/Llama/word_init_disjoint_half.txt']\n",
    "\n",
    "    for filename in tqdm(files):\n",
    "\n",
    "        \n",
    "        sim = 0.0\n",
    "        cnt = 0\n",
    "        save_name = filename\n",
    "        print(filename)\n",
    "        lines = []\n",
    "        with open(filename, 'r') as f:\n",
    "            lines = f.readlines()\n",
    "\n",
    "\n",
    "            lines = list(lines[9:])\n",
    "            # for i,line in enumerate(tqdm(lines)):\n",
    "            for i,line in enumerate(tqdm(lines)):\n",
    "                if   ('-' * 10 ) in  line:\n",
    "\n",
    "                    # ' '.join(output_file[i+3].split('|')[1].split(' ')[1:-3])\n",
    "                    line_segments = lines[i-1].split('|')\n",
    "\n",
    "                    if len(line_segments)< 2:\n",
    "                        print(line)\n",
    "                    label = ' '.join(line_segments[1].split(' ')[1:-3]).strip()\n",
    "                    prediction = line_segments[0].strip()\n",
    "\n",
    "                    ### Only consider the wrong examples\n",
    "                    if label == prediction:\n",
    "                        continue\n",
    "\n",
    "                    embedding_1= model.encode(label, convert_to_tensor=True)\n",
    "                    embedding_2 = model.encode(prediction, convert_to_tensor=True)\n",
    "                    sim += util.pytorch_cos_sim(embedding_1, embedding_2)\n",
    "                    cnt += 1\n",
    "\n",
    "        # save_key = filename.split('.txt')[0] + '_similarity.txt'\n",
    "        \n",
    "        # similarities_dict[save_key] = sim/cnt\n",
    "        similarities_dict.append({'filename': save_name, 'similarity' : sim.item()/cnt})\n",
    "\n",
    "\n",
    "    save_results_path = base_dir  + 'similarity_results.json'\n",
    "\n",
    "    with open(save_results_path, 'w')as f:\n",
    "        json.dump(similarities_dict,f)"
   ]
  },
  {
   "cell_type": "code",
   "execution_count": null,
   "metadata": {},
   "outputs": [],
   "source": []
  },
  {
   "cell_type": "code",
   "execution_count": null,
   "metadata": {},
   "outputs": [
    {
     "data": {
      "text/plain": [
       "[{'filename': 'chatgpt_eval_results_32627_3shots_learning.txt',\n",
       "  'similarity': 0.26035912872548106},\n",
       " {'filename': 'mistral_normal_3_few_shot.txt',\n",
       "  'similarity': 0.2563265511580269},\n",
       " {'filename': 'mistral_cryptonite_1.5_cryptonite_test.txt',\n",
       "  'similarity': 0.27961570198791563},\n",
       " {'filename': 'mistral_indicator_0_few_shot.txt',\n",
       "  'similarity': 0.253681175298915},\n",
       " {'filename': 'mistral_disjoint_2_new_2k_output_test_disjoint.txt',\n",
       "  'similarity': 0.25217527353184543},\n",
       " {'filename': 'mistral_disjoint_2k_test_output_disjoint.txt',\n",
       "  'similarity': 0.2521862395432226},\n",
       " {'filename': 'llama_normal_3_few_shot.txt',\n",
       "  'similarity': 0.26083533621289007},\n",
       " {'filename': 'llama_naive_1.5k_output_test_naive.txt',\n",
       "  'similarity': 0.26286855555130506},\n",
       " {'filename': 'chatgpt_eval_results_32619.txt',\n",
       "  'similarity': 0.2564453541758995},\n",
       " {'filename': 'llama_disjoint_1.5k_output_test_disjoint.txt',\n",
       "  'similarity': 0.2531108857905633},\n",
       " {'filename': 'mistral_indicator_3_few_shot.txt',\n",
       "  'similarity': 0.25562388615076537},\n",
       " {'filename': 'mistral_normal_10_few_shot.txt',\n",
       "  'similarity': 0.2565082272786625},\n",
       " {'filename': 'mistral_disjoint_1k_cryptonite_filtered_full_testset_with_clue.txt',\n",
       "  'similarity': 0.2621494959151122},\n",
       " {'filename': 'mistral_word_init_disjoint_unique_3k.txt',\n",
       "  'similarity': 0.2503568506488916},\n",
       " {'filename': 'mistral_disjoint_half_targets_2_new_2k_output_test_disjoint_half_targets.txt',\n",
       "  'similarity': 0.25642820643655845},\n",
       " {'filename': 'mistral_naive_random_unique_3k.txt',\n",
       "  'similarity': 0.2614045548535552},\n",
       " {'filename': 'mistral_disjoint_1k_cryptonite_filtered_quick_testset.txt',\n",
       "  'similarity': 0.26615078513192947},\n",
       " {'filename': 'llama_indicator_0_few_shot.txt',\n",
       "  'similarity': 0.256002023985118},\n",
       " {'filename': 'llama_disjoint_2_new_1.5k_output_test_disjoint.txt',\n",
       "  'similarity': 0.253784332157408},\n",
       " {'filename': 'llama_normal_10_few_shot.txt',\n",
       "  'similarity': 0.2633395994505097},\n",
       " {'filename': 'llama_indicator_10_few_shot.txt',\n",
       "  'similarity': 0.26102648684228374},\n",
       " {'filename': 'mistral_disjoint_1k_cryptonite_filtered_quick_testset_with_clue.txt',\n",
       "  'similarity': 0.26615078513192947},\n",
       " {'filename': 'llama_indicator_3_few_shot.txt',\n",
       "  'similarity': 0.2608438541291426}]"
      ]
     },
     "execution_count": 4,
     "metadata": {},
     "output_type": "execute_result"
    }
   ],
   "source": [
    "similarities_dict"
   ]
  },
  {
   "cell_type": "code",
   "execution_count": null,
   "metadata": {},
   "outputs": [
    {
     "data": {
      "text/plain": [
       "'outputs/includedsimilarity_results.json'"
      ]
     },
     "execution_count": 5,
     "metadata": {},
     "output_type": "execute_result"
    }
   ],
   "source": [
    "save_results_path"
   ]
  }
 ],
 "metadata": {
  "kernelspec": {
   "display_name": "Python 3",
   "language": "python",
   "name": "python3"
  },
  "language_info": {
   "codemirror_mode": {
    "name": "ipython",
    "version": 3
   },
   "file_extension": ".py",
   "mimetype": "text/x-python",
   "name": "python",
   "nbconvert_exporter": "python",
   "pygments_lexer": "ipython3",
   "version": "3.10.12"
  },
  "orig_nbformat": 4
 },
 "nbformat": 4,
 "nbformat_minor": 2
}
