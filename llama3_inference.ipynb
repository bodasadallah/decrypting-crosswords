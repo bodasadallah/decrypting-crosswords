{
 "cells": [
  {
   "cell_type": "code",
   "execution_count": 1,
   "metadata": {},
   "outputs": [
    {
     "name": "stderr",
     "output_type": "stream",
     "text": [
      "Special tokens have been added in the vocabulary, make sure the associated word embeddings are fine-tuned or trained.\n"
     ]
    },
    {
     "data": {
      "application/vnd.jupyter.widget-view+json": {
       "model_id": "ee75bc06780446739b7a5c5a2036177e",
       "version_major": 2,
       "version_minor": 0
      },
      "text/plain": [
       "Loading checkpoint shards:   0%|          | 0/4 [00:00<?, ?it/s]"
      ]
     },
     "metadata": {},
     "output_type": "display_data"
    }
   ],
   "source": [
    "import transformers\n",
    "import torch\n",
    "from transformers import AutoModelForCausalLM, AutoTokenizer\n",
    "\n",
    "\n",
    "model_id = \"meta-llama/Meta-Llama-3-8B\"\n",
    "\n",
    "torch.cuda.set_device(0)\n",
    "\n",
    "tokenizer = AutoTokenizer.from_pretrained(model_id)\n",
    "model = AutoModelForCausalLM.from_pretrained(model_id)"
   ]
  },
  {
   "cell_type": "code",
   "execution_count": 4,
   "metadata": {},
   "outputs": [
    {
     "data": {
      "text/plain": [
       "LlamaForCausalLM(\n",
       "  (model): LlamaModel(\n",
       "    (embed_tokens): Embedding(128256, 4096)\n",
       "    (layers): ModuleList(\n",
       "      (0-31): 32 x LlamaDecoderLayer(\n",
       "        (self_attn): LlamaSdpaAttention(\n",
       "          (q_proj): Linear(in_features=4096, out_features=4096, bias=False)\n",
       "          (k_proj): Linear(in_features=4096, out_features=1024, bias=False)\n",
       "          (v_proj): Linear(in_features=4096, out_features=1024, bias=False)\n",
       "          (o_proj): Linear(in_features=4096, out_features=4096, bias=False)\n",
       "          (rotary_emb): LlamaRotaryEmbedding()\n",
       "        )\n",
       "        (mlp): LlamaMLP(\n",
       "          (gate_proj): Linear(in_features=4096, out_features=14336, bias=False)\n",
       "          (up_proj): Linear(in_features=4096, out_features=14336, bias=False)\n",
       "          (down_proj): Linear(in_features=14336, out_features=4096, bias=False)\n",
       "          (act_fn): SiLU()\n",
       "        )\n",
       "        (input_layernorm): LlamaRMSNorm()\n",
       "        (post_attention_layernorm): LlamaRMSNorm()\n",
       "      )\n",
       "    )\n",
       "    (norm): LlamaRMSNorm()\n",
       "  )\n",
       "  (lm_head): Linear(in_features=4096, out_features=128256, bias=False)\n",
       ")"
      ]
     },
     "execution_count": 4,
     "metadata": {},
     "output_type": "execute_result"
    }
   ],
   "source": [
    "model"
   ]
  },
  {
   "cell_type": "code",
   "execution_count": 6,
   "metadata": {},
   "outputs": [
    {
     "name": "stderr",
     "output_type": "stream",
     "text": [
      "Setting `pad_token_id` to `eos_token_id`:128001 for open-end generation.\n"
     ]
    },
    {
     "name": "stdout",
     "output_type": "stream",
     "text": [
      "<|begin_of_text|>You are a cryptic crossword expert. You are given a clue for a cryptic crossword. Solve the clue.\n",
      "Agreed toe is deformed somewhat (2,1,6)\n",
      "A cryptic clue is a clue that provides a definition of the answer and contains a wordplay element. In the above example, the definition is \"deformed\", and the wordplay is \"agreed toe is\". The wordplay is a homophone of \"agreed to be\", which is a synonym for \"deformed\". The answer is \"deformed\".\n",
      "You are given a cryptic crossword clue. Solve the clue.\n",
      "Cryptic crosswords are a type of crossword puzzle that uses clues that are cryptic, or difficult to understand. The clues are usually in the form of a sentence or phrase, and the answer is a\n"
     ]
    }
   ],
   "source": [
    "from transformers import TextStreamer\n",
    "\n",
    "\n",
    "text_streamer = TextStreamer(tokenizer)\n",
    "\n",
    "text = '''You are a cryptic crossword expert. You are given a clue for a cryptic crossword. Solve the clue.\n",
    "Agreed toe is deformed somewhat (2,1,6)\n",
    "'''\n",
    "\n",
    "inputs = tokenizer(text,\n",
    "  return_tensors=\"pt\")\n",
    "output = model.generate(**inputs, streamer = text_streamer, max_new_tokens = 128)\n",
    "\n",
    "\n",
    "\n"
   ]
  },
  {
   "cell_type": "code",
   "execution_count": 7,
   "metadata": {},
   "outputs": [
    {
     "name": "stdout",
     "output_type": "stream",
     "text": [
      "tensor([[128000,   2675,    527,    264,  14774,    292,  92496,   6335,     13,\n",
      "           1472,    527,   2728,    264,  31089,    369,    264,  14774,    292,\n",
      "          92496,     13,  64384,    279,  31089,    627,   9219,  29616,  31316,\n",
      "            374,    409,  10365,  14738,    320,     17,     11,     16,     11,\n",
      "             21,    340,     32,  14774,    292,  31089,    374,    264,  31089,\n",
      "            430,   5825,    264,   7419,    315,    279,   4320,    323,   5727,\n",
      "            264,   3492,   1387,   2449,     13,    763,    279,   3485,   3187,\n",
      "             11,    279,   7419,    374,    330,    451,  10365,    498,    323,\n",
      "            279,   3492,   1387,    374,    330,    351,  29616,  31316,    374,\n",
      "           3343,    578,   3492,   1387,    374,    264,   5105,  78303,    315,\n",
      "            330,    351,  29616,    311,    387,    498,    902,    374,    264,\n",
      "          74450,    369,    330,    451,  10365,   3343,    578,   4320,    374,\n",
      "            330,    451,  10365,  23811,   2675,    527,   2728,    264,  14774,\n",
      "            292,  92496,  31089,     13,  64384,    279,  31089,    627,  54467,\n",
      "            292,   5425,   5880,    527,    264,    955,    315,  92496,  25649,\n",
      "            430,   5829,  43775,    430,    527,  14774,    292,     11,    477,\n",
      "           5107,    311,   3619,     13,    578,  43775,    527,   6118,    304,\n",
      "            279,   1376,    315,    264,  11914,    477,  17571,     11,    323,\n",
      "            279,   4320,    374,    264]])\n"
     ]
    }
   ],
   "source": [
    "print(output)\n"
   ]
  },
  {
   "cell_type": "code",
   "execution_count": 41,
   "metadata": {},
   "outputs": [
    {
     "name": "stderr",
     "output_type": "stream",
     "text": [
      "/home/abdelrahman.sadallah/mambaforge/envs/nlp/lib/python3.10/site-packages/transformers/generation/configuration_utils.py:500: UserWarning: `do_sample` is set to `False`. However, `temperature` is set to `0.1` -- this flag is only used in sample-based generation modes. You should set `do_sample=True` or unset `temperature`.\n",
      "  warnings.warn(\n",
      "/home/abdelrahman.sadallah/mambaforge/envs/nlp/lib/python3.10/site-packages/transformers/generation/configuration_utils.py:505: UserWarning: `do_sample` is set to `False`. However, `top_p` is set to `0.9` -- this flag is only used in sample-based generation modes. You should set `do_sample=True` or unset `top_p`.\n",
      "  warnings.warn(\n",
      "Setting `pad_token_id` to `eos_token_id`:128001 for open-end generation.\n"
     ]
    },
    {
     "name": "stdout",
     "output_type": "stream",
     "text": [
      "<|begin_of_text|>sdfdsf\n",
      "sdfdsf\n",
      "sdfdsf\n",
      "sdfdsf\n",
      "sdfdsf\n",
      "sdfdsf\n",
      "sdfdsf\n",
      "sdfdsf\n",
      "sdfdsf\n",
      "sdfdsf\n",
      "sdfdsf\n",
      "sdfdsf\n",
      "sdfdsf\n",
      "sdfds\n"
     ]
    }
   ],
   "source": [
    "text = '''You are a cryptic crossword expert. You are given a clue for a cryptic crossword. Only output the answer.\n",
    "clue:\n",
    "Promise to fix toilet pan (9)\n",
    "output:\n",
    "'''\n",
    "terminators = [\n",
    "    tokenizer.eos_token_id,\n",
    "    tokenizer.convert_tokens_to_ids(\"<|eot_id|>\"),\n",
    "    tokenizer.convert_tokens_to_ids('<|end_of_text|>')\n",
    "    \n",
    "]\n",
    "inputs = tokenizer(['sdfdsf','sdfdsf'],\n",
    "  return_tensors=\"pt\")\n",
    "output = model.generate(**inputs,  max_new_tokens = 64,eos_token_id=terminators, do_sample=False,temperature=0.1, top_p= 0.9 )\n",
    "print(tokenizer.decode(output[0], skip_special_tokens=False))\n",
    "\n"
   ]
  },
  {
   "cell_type": "code",
   "execution_count": 42,
   "metadata": {},
   "outputs": [
    {
     "data": {
      "text/plain": [
       "tensor([[128000,     82,   3013,   5469,     69,    198,     82,   3013,   5469,\n",
       "             69,    198,     82,   3013,   5469,     69,    198,     82,   3013,\n",
       "           5469,     69,    198,     82,   3013,   5469,     69,    198,     82,\n",
       "           3013,   5469,     69,    198,     82,   3013,   5469,     69,    198,\n",
       "             82,   3013,   5469,     69,    198,     82,   3013,   5469,     69,\n",
       "            198,     82,   3013,   5469,     69,    198,     82,   3013,   5469,\n",
       "             69,    198,     82,   3013,   5469,     69,    198,     82,   3013,\n",
       "           5469,     69,    198,     82,   3013,   5469],\n",
       "        [128000,     82,   3013,   5469,     69,    198,     82,   3013,   5469,\n",
       "             69,    198,     82,   3013,   5469,     69,    198,     82,   3013,\n",
       "           5469,     69,    198,     82,   3013,   5469,     69,    198,     82,\n",
       "           3013,   5469,     69,    198,     82,   3013,   5469,     69,    198,\n",
       "             82,   3013,   5469,     69,    198,     82,   3013,   5469,     69,\n",
       "            198,     82,   3013,   5469,     69,    198,     82,   3013,   5469,\n",
       "             69,    198,     82,   3013,   5469,     69,    198,     82,   3013,\n",
       "           5469,     69,    198,     82,   3013,   5469]])"
      ]
     },
     "execution_count": 42,
     "metadata": {},
     "output_type": "execute_result"
    }
   ],
   "source": [
    "output"
   ]
  },
  {
   "cell_type": "code",
   "execution_count": 32,
   "metadata": {},
   "outputs": [],
   "source": [
    "import re\n",
    "def get_ans_words_chard(clue):\n",
    "    # Regular expression to match strings inside parentheses\n",
    "    pattern = r'\\((.*?)\\)'\n",
    "    # Find all matches\n",
    "    matches = re.findall(pattern, clue)[-1]\n",
    "\n",
    "    numbers = matches.split(',')\n",
    "\n",
    "    return len(numbers), matches\n",
    "\n",
    "\n",
    "\n",
    "def crop_predictions(clues, predictions):\n",
    "\n",
    "    lengthes = []\n",
    "    for clue in clues:\n",
    "        lengthes.append(get_ans_words_chard(clue)[1])\n",
    "\n",
    "    cropped_predictions = []\n",
    "    for i, pred in enumerate(predictions):\n",
    "        cleaned_text = []\n",
    "        pred_words = pred.split(' ')\n",
    "\n",
    "        for word, length in zip(pred_words, lengthes[i]):\n",
    "            cleaned_text.append(word[:length])\n",
    "        cropped_predictions.append(' '.join(cleaned_text))\n",
    "\n",
    "    return cropped_predictions\n",
    "\n",
    "\n"
   ]
  },
  {
   "cell_type": "code",
   "execution_count": 45,
   "metadata": {},
   "outputs": [
    {
     "name": "stdout",
     "output_type": "stream",
     "text": [
      "{'input': 'sdfsdf', 'target': 'sdfsdfsdf', 'prompt': 'You are a cryptic crossword expert. You are given a clue for a cryptic crossword. Output only the answer. \\nclue:\\nsdfsdf\\noutput:\\nsdfsdfsdf\\n'}\n"
     ]
    }
   ],
   "source": [
    "from utils import generate_prompt\n",
    "\n",
    "example = { 'input': 'sdfsdf', 'target': 'sdfsdfsdf'}\n",
    "print (generate_prompt(example, 'LLAMA3_BASE_PROMPT', True))\n",
    "\n"
   ]
  }
 ],
 "metadata": {
  "kernelspec": {
   "display_name": "Python 3 (ipykernel)",
   "language": "python",
   "name": "python3"
  },
  "language_info": {
   "codemirror_mode": {
    "name": "ipython",
    "version": 3
   },
   "file_extension": ".py",
   "mimetype": "text/x-python",
   "name": "python",
   "nbconvert_exporter": "python",
   "pygments_lexer": "ipython3",
   "version": "3.10.12"
  }
 },
 "nbformat": 4,
 "nbformat_minor": 4
}
