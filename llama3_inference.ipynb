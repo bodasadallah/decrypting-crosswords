{
 "cells": [
  {
   "cell_type": "code",
   "execution_count": 1,
   "metadata": {},
   "outputs": [
    {
     "data": {
      "application/vnd.jupyter.widget-view+json": {
       "model_id": "17aca144ac884fdca1bf5a20306535e0",
       "version_major": 2,
       "version_minor": 0
      },
      "text/plain": [
       "Loading checkpoint shards:   0%|          | 0/4 [00:00<?, ?it/s]"
      ]
     },
     "metadata": {},
     "output_type": "display_data"
    },
    {
     "name": "stderr",
     "output_type": "stream",
     "text": [
      "Special tokens have been added in the vocabulary, make sure the associated word embeddings are fine-tuned or trained.\n"
     ]
    }
   ],
   "source": [
    "import transformers\n",
    "import torch\n",
    "from transformers import AutoTokenizer, AutoModelForCausalLM\n",
    "\n",
    "model_id = \"meta-llama/Meta-Llama-3-8B-Instruct\"\n",
    "\n",
    "# pipeline = transformers.pipeline(\n",
    "#     \"text-generation\",\n",
    "#     model=model_id,\n",
    "#     model_kwargs={\"torch_dtype\": torch.bfloat16},\n",
    "#     device=\"cuda\",\n",
    "# )\n",
    "\n",
    "\n",
    "# terminators = [\n",
    "#     pipeline.tokenizer.eos_token_id,\n",
    "#     pipeline.tokenizer.convert_tokens_to_ids(\"<|eot_id|>\")\n",
    "# ]\n",
    "model = AutoModelForCausalLM.from_pretrained(\n",
    "model_id,\n",
    "attn_implementation= \"flash_attention_2\",\n",
    "# quantization_config=None,\n",
    "# trust_remote_code=True,\n",
    "torch_dtype = torch.bfloat16,\n",
    "device_map = 'auto'\n",
    "    )\n",
    "model = model.eval()\n",
    "tokenizer = AutoTokenizer.from_pretrained(model_id,padding_side='left')\n",
    "tokenizer.pad_token = tokenizer.eos_token\n",
    "tokenizer.pad_token_id = tokenizer.eos_token_id\n",
    "model.config.pad_token_id = model.config.bos_token_id\n",
    "\n"
   ]
  },
  {
   "cell_type": "code",
   "execution_count": 3,
   "metadata": {},
   "outputs": [
    {
     "name": "stdout",
     "output_type": "stream",
     "text": [
      "------------------Loading boda/guardian_naive_random/test, and using ALL_INCLUSIVE_PROMPT, and 0 shot prompt ------------------\n"
     ]
    },
    {
     "data": {
      "application/vnd.jupyter.widget-view+json": {
       "model_id": "5a547b106e94474ea79cedc8df144bb1",
       "version_major": 2,
       "version_minor": 0
      },
      "text/plain": [
       "Map:   0%|          | 0/28476 [00:00<?, ? examples/s]"
      ]
     },
     "metadata": {},
     "output_type": "display_data"
    }
   ],
   "source": [
    "# text = '''You are a cryptic crosswords expert. I will give you a clue. As you know, every clue has two parts: a definition and wordplay. Please extract the definition word/s from this clue. Notice that the definition usually comes at the clue's beginning or end. Just output the answer. \n",
    "# Clue: {clue}\n",
    "# Output: \n",
    "# '''\n",
    "from utils import get_dataset,generate_prompt\n",
    "from openai import OpenAI, AsyncOpenAI\n",
    "import asyncio\n",
    "import os\n",
    "from utils import get_dataset,get_ans_words_chard\n",
    "from datasets import load_dataset\n",
    "client = OpenAI(api_key=os.environ.get(\"OPENAI_API_KEY\"))\n",
    "\n",
    "from tqdm import tqdm   \n",
    "import emoji\n",
    "import json\n",
    "\n",
    "\n",
    "base_prompt ='ALL_INCLUSIVE_PROMPT'\n",
    "\n",
    "dataset = get_dataset('boda/guardian_naive_random',\n",
    "                split='test',\n",
    "                prompt_key='prompt',\n",
    "                prompt_head=base_prompt,\n",
    "                shots=0,\n",
    "                )\n",
    "import pandas as pd\n"
   ]
  },
  {
   "cell_type": "code",
   "execution_count": 12,
   "metadata": {
    "scrolled": true
   },
   "outputs": [
    {
     "name": "stderr",
     "output_type": "stream",
     "text": [
      " 10%|█████████████████▌                                                                                                                                                             | 1/10 [00:08<01:17,  8.63s/it]"
     ]
    },
    {
     "name": "stdout",
     "output_type": "stream",
     "text": [
      "laxative\n"
     ]
    },
    {
     "name": "stderr",
     "output_type": "stream",
     "text": [
      " 20%|███████████████████████████████████                                                                                                                                            | 2/10 [00:15<00:58,  7.36s/it]"
     ]
    },
    {
     "name": "stdout",
     "output_type": "stream",
     "text": [
      "settl\n"
     ]
    },
    {
     "name": "stderr",
     "output_type": "stream",
     "text": [
      " 30%|████████████████████████████████████████████████████▌                                                                                                                          | 3/10 [00:24<00:57,  8.21s/it]"
     ]
    },
    {
     "name": "stdout",
     "output_type": "stream",
     "text": [
      "brezel\n"
     ]
    },
    {
     "name": "stderr",
     "output_type": "stream",
     "text": [
      " 40%|██████████████████████████████████████████████████████████████████████                                                                                                         | 4/10 [00:31<00:46,  7.76s/it]"
     ]
    },
    {
     "name": "stdout",
     "output_type": "stream",
     "text": [
      "ezra\n"
     ]
    },
    {
     "name": "stderr",
     "output_type": "stream",
     "text": [
      " 50%|███████████████████████████████████████████████████████████████████████████████████████▌                                                                                       | 5/10 [00:37<00:34,  6.99s/it]"
     ]
    },
    {
     "name": "stdout",
     "output_type": "stream",
     "text": [
      "roarer\n"
     ]
    },
    {
     "name": "stderr",
     "output_type": "stream",
     "text": [
      " 60%|█████████████████████████████████████████████████████████████████████████████████████████████████████████                                                                      | 6/10 [00:44<00:28,  7.11s/it]"
     ]
    },
    {
     "name": "stdout",
     "output_type": "stream",
     "text": [
      "frosty\n"
     ]
    },
    {
     "name": "stderr",
     "output_type": "stream",
     "text": [
      " 70%|██████████████████████████████████████████████████████████████████████████████████████████████████████████████████████████▍                                                    | 7/10 [00:50<00:20,  6.90s/it]"
     ]
    },
    {
     "name": "stdout",
     "output_type": "stream",
     "text": [
      "rupee\n"
     ]
    },
    {
     "name": "stderr",
     "output_type": "stream",
     "text": [
      " 80%|████████████████████████████████████████████████████████████████████████████████████████████████████████████████████████████████████████████                                   | 8/10 [00:57<00:13,  6.88s/it]"
     ]
    },
    {
     "name": "stdout",
     "output_type": "stream",
     "text": [
      "bailiff\n"
     ]
    },
    {
     "name": "stderr",
     "output_type": "stream",
     "text": [
      " 90%|█████████████████████████████████████████████████████████████████████████████████████████████████████████████████████████████████████████████████████████████▌                 | 9/10 [01:03<00:06,  6.67s/it]"
     ]
    },
    {
     "name": "stdout",
     "output_type": "stream",
     "text": [
      "anchors\n"
     ]
    },
    {
     "name": "stderr",
     "output_type": "stream",
     "text": [
      "100%|██████████████████████████████████████████████████████████████████████████████████████████████████████████████████████████████████████████████████████████████████████████████| 10/10 [01:11<00:00,  7.11s/it]"
     ]
    },
    {
     "name": "stdout",
     "output_type": "stream",
     "text": [
      "previes\n"
     ]
    },
    {
     "name": "stderr",
     "output_type": "stream",
     "text": [
      "\n"
     ]
    }
   ],
   "source": [
    "\n",
    "\n",
    "num_examples = 10\n",
    "# data = pd.read_csv('/home/abdelrahman.sadallah/mbzuai/decrypting-crosswords/data/short_list_clues.csv')\n",
    "responses = []\n",
    "for i ,row in enumerate(tqdm(dataset.select(range(num_examples)))):\n",
    "        # clue = row['clue']\n",
    "        answer = row['target']\n",
    "    \n",
    "        \n",
    "        # cur_clue = text.format(clue=clue, answer=answer)\n",
    "        messages = [\n",
    "        {\"role\": \"user\", \"content\": row['prompt']},\n",
    "        ]\n",
    "\n",
    "        prompt = tokenizer.apply_chat_template(\n",
    "                messages, \n",
    "                tokenize=False, \n",
    "                add_generation_prompt=True\n",
    "        )\n",
    "\n",
    "        inputs = tokenizer(prompt,return_tensors=\"pt\").to(model.device)\n",
    "        inputs_length = inputs.input_ids.shape[1]\n",
    "\n",
    "\n",
    "        outputs = model.generate(**inputs,\n",
    "                                do_sample=False,\n",
    "                                temperature=1.9,\n",
    "                                top_p=0.9,\n",
    "                                pad_token_id = tokenizer.eos_token_id)\n",
    "        \n",
    "        response  = tokenizer.batch_decode(outputs[:, inputs_length:], skip_special_tokens=True)[0].lower()\n",
    "\n",
    "        for l in response.split('\\n'):\n",
    "            if 'answer:' in l:\n",
    "              response = l.split('answer:')[1].strip().replace(',','').replace('.','').replace('?','').replace('!','').strip()\n",
    "\n",
    "        responses.append(response)\n",
    "        print(response)\n",
    "        # print(tokenizer.batch_decode(outputs[:, inputs_length:], skip_special_tokens=True))\n",
    "\n",
    "# with open('explanaitons_dasha_prompt.txt', 'w') as f:\n",
    "#     for response in responses:\n",
    "#         f.write(response + '\\n')"
   ]
  },
  {
   "cell_type": "code",
   "execution_count": 24,
   "metadata": {},
   "outputs": [
    {
     "name": "stdout",
     "output_type": "stream",
     "text": [
      "<|begin_of_text|><|start_header_id|>user<|end_header_id|>\n",
      "\n",
      "You are a cryptic crosswords expert. I will give you a clue. As you know, every clue has two parts: a definition and wordplay. Please extract the wordplay type from this clue.\n",
      "Here is a list of all possible wordplay types, and their descriptions:\n",
      "- assemblage: the answer is broken into its component parts and the hint makes references to these in a sequence.\n",
      "- anagram:  certain words or letters must be jumbled to form an entirely new term.\n",
      "- hidden word: the answer will be hidden within one or multiple words within the provided phrase.\n",
      "- container: the answer is broken down into different parts, with one part embedded within another.\n",
      "- double definition: a word with two definitions.\n",
      "only output the wordplay type.\n",
      "Clue: Tricky problem, brewing artisan beer (5-6)\n",
      "Output:<|eot_id|><|start_header_id|>assistant<|end_header_id|>\n",
      "\n",
      "\n"
     ]
    }
   ],
   "source": [
    "print(prompt)"
   ]
  },
  {
   "cell_type": "code",
   "execution_count": 1,
   "metadata": {},
   "outputs": [
    {
     "name": "stderr",
     "output_type": "stream",
     "text": [
      "Special tokens have been added in the vocabulary, make sure the associated word embeddings are fine-tuned or trained.\n"
     ]
    },
    {
     "data": {
      "application/vnd.jupyter.widget-view+json": {
       "model_id": "c33d4930cd594a8f87318d74278cc0f4",
       "version_major": 2,
       "version_minor": 0
      },
      "text/plain": [
       "Loading checkpoint shards:   0%|          | 0/4 [00:00<?, ?it/s]"
      ]
     },
     "metadata": {},
     "output_type": "display_data"
    }
   ],
   "source": [
    "import transformers\n",
    "import torch\n",
    "from transformers import AutoModelForCausalLM, AutoTokenizer\n",
    "\n",
    "\n",
    "model_id = \"meta-llama/Meta-Llama-3-8B-Instruct\"\n",
    "\n",
    "torch.cuda.set_device(0)\n",
    "\n",
    "tokenizer = AutoTokenizer.from_pretrained(model_id)\n",
    "model = AutoModelForCausalLM.from_pretrained(model_id)"
   ]
  },
  {
   "cell_type": "code",
   "execution_count": 2,
   "metadata": {},
   "outputs": [
    {
     "data": {
      "text/plain": [
       "LlamaForCausalLM(\n",
       "  (model): LlamaModel(\n",
       "    (embed_tokens): Embedding(128256, 4096)\n",
       "    (layers): ModuleList(\n",
       "      (0-31): 32 x LlamaDecoderLayer(\n",
       "        (self_attn): LlamaSdpaAttention(\n",
       "          (q_proj): Linear(in_features=4096, out_features=4096, bias=False)\n",
       "          (k_proj): Linear(in_features=4096, out_features=1024, bias=False)\n",
       "          (v_proj): Linear(in_features=4096, out_features=1024, bias=False)\n",
       "          (o_proj): Linear(in_features=4096, out_features=4096, bias=False)\n",
       "          (rotary_emb): LlamaRotaryEmbedding()\n",
       "        )\n",
       "        (mlp): LlamaMLP(\n",
       "          (gate_proj): Linear(in_features=4096, out_features=14336, bias=False)\n",
       "          (up_proj): Linear(in_features=4096, out_features=14336, bias=False)\n",
       "          (down_proj): Linear(in_features=14336, out_features=4096, bias=False)\n",
       "          (act_fn): SiLU()\n",
       "        )\n",
       "        (input_layernorm): LlamaRMSNorm()\n",
       "        (post_attention_layernorm): LlamaRMSNorm()\n",
       "      )\n",
       "    )\n",
       "    (norm): LlamaRMSNorm()\n",
       "  )\n",
       "  (lm_head): Linear(in_features=4096, out_features=128256, bias=False)\n",
       ")"
      ]
     },
     "execution_count": 2,
     "metadata": {},
     "output_type": "execute_result"
    }
   ],
   "source": [
    "model"
   ]
  },
  {
   "cell_type": "code",
   "execution_count": 19,
   "metadata": {},
   "outputs": [
    {
     "name": "stderr",
     "output_type": "stream",
     "text": [
      "Setting `pad_token_id` to `eos_token_id`:128001 for open-end generation.\n"
     ]
    },
    {
     "name": "stdout",
     "output_type": "stream",
     "text": [
      "You are a cryptic crosswords expert. I will give you a clue. As you know, every clue has two parts: a definition and wordplay. Please extract the definition word/s from this clue. Only output the definition word. \n",
      "clue: Smear pan to cook cheese (8)\n",
      "definition: \n",
      "Please extract the definition word/s from this clue. Only output the definition word. \n",
      "\n",
      "Answer: \n",
      "Pan \n",
      "Please let me know if this is correct. I\n"
     ]
    }
   ],
   "source": [
    "from transformers import TextStreamer\n",
    "\n",
    "\n",
    "text_streamer = TextStreamer(tokenizer)\n",
    "\n",
    "text = '''You are a cryptic crosswords expert. I will give you a clue. As you know, every clue has two parts: a definition and wordplay. Please extract the definition word/s from this clue. Only output the definition word. \n",
    "clue: {clue}\n",
    "definition: \n",
    "'''\n",
    "\n",
    "clue = 'Smear pan to cook cheese (8)'\n",
    "\n",
    "text = text.format(clue=clue)\n",
    "\n",
    "inputs = tokenizer(text,\n",
    "  return_tensors=\"pt\")\n",
    "inputs_length = inputs.input_ids.shape[1]\n",
    "output = model.generate(**inputs, max_new_tokens = 32, do_sample = False)\n",
    "\n",
    "# output = tokenizer.batch_decode(output[:, inputs_length:], skip_special_tokens=True)\n",
    "output = tokenizer.batch_decode(output, skip_special_tokens=True)\n",
    "\n",
    "print(output[0])\n"
   ]
  },
  {
   "cell_type": "code",
   "execution_count": 15,
   "metadata": {},
   "outputs": [
    {
     "ename": "TypeError",
     "evalue": "list indices must be integers or slices, not tuple",
     "output_type": "error",
     "traceback": [
      "\u001b[0;31m---------------------------------------------------------------------------\u001b[0m",
      "\u001b[0;31mTypeError\u001b[0m                                 Traceback (most recent call last)",
      "Cell \u001b[0;32mIn[15], line 1\u001b[0m\n\u001b[0;32m----> 1\u001b[0m output \u001b[38;5;241m=\u001b[39m tokenizer\u001b[38;5;241m.\u001b[39mbatch_decode(\u001b[43moutput\u001b[49m\u001b[43m[\u001b[49m\u001b[43m:\u001b[49m\u001b[43m,\u001b[49m\u001b[43m \u001b[49m\u001b[43minputs_length\u001b[49m\u001b[43m:\u001b[49m\u001b[43m]\u001b[49m, skip_special_tokens\u001b[38;5;241m=\u001b[39m\u001b[38;5;28;01mTrue\u001b[39;00m)\n\u001b[1;32m      2\u001b[0m \u001b[38;5;28mprint\u001b[39m(output[\u001b[38;5;241m0\u001b[39m])\n",
      "\u001b[0;31mTypeError\u001b[0m: list indices must be integers or slices, not tuple"
     ]
    }
   ],
   "source": []
  },
  {
   "cell_type": "code",
   "execution_count": 41,
   "metadata": {},
   "outputs": [
    {
     "name": "stderr",
     "output_type": "stream",
     "text": [
      "/home/abdelrahman.sadallah/mambaforge/envs/nlp/lib/python3.10/site-packages/transformers/generation/configuration_utils.py:500: UserWarning: `do_sample` is set to `False`. However, `temperature` is set to `0.1` -- this flag is only used in sample-based generation modes. You should set `do_sample=True` or unset `temperature`.\n",
      "  warnings.warn(\n",
      "/home/abdelrahman.sadallah/mambaforge/envs/nlp/lib/python3.10/site-packages/transformers/generation/configuration_utils.py:505: UserWarning: `do_sample` is set to `False`. However, `top_p` is set to `0.9` -- this flag is only used in sample-based generation modes. You should set `do_sample=True` or unset `top_p`.\n",
      "  warnings.warn(\n",
      "Setting `pad_token_id` to `eos_token_id`:128001 for open-end generation.\n"
     ]
    },
    {
     "name": "stdout",
     "output_type": "stream",
     "text": [
      "<|begin_of_text|>sdfdsf\n",
      "sdfdsf\n",
      "sdfdsf\n",
      "sdfdsf\n",
      "sdfdsf\n",
      "sdfdsf\n",
      "sdfdsf\n",
      "sdfdsf\n",
      "sdfdsf\n",
      "sdfdsf\n",
      "sdfdsf\n",
      "sdfdsf\n",
      "sdfdsf\n",
      "sdfds\n"
     ]
    }
   ],
   "source": [
    "text = '''You are a cryptic crossword expert. You are given a clue for a cryptic crossword. Only output the answer.\n",
    "clue:\n",
    "Promise to fix toilet pan (9)\n",
    "output:\n",
    "'''\n",
    "terminators = [\n",
    "    tokenizer.eos_token_id,\n",
    "    tokenizer.convert_tokens_to_ids(\"<|eot_id|>\"),\n",
    "    tokenizer.convert_tokens_to_ids('<|end_of_text|>')\n",
    "    \n",
    "]\n",
    "inputs = tokenizer(['sdfdsf','sdfdsf'],\n",
    "  return_tensors=\"pt\")\n",
    "output = model.generate(**inputs,  max_new_tokens = 64,eos_token_id=terminators, do_sample=False,temperature=0.1, top_p= 0.9 )\n",
    "print(tokenizer.decode(output[0], skip_special_tokens=False))\n",
    "\n"
   ]
  },
  {
   "cell_type": "code",
   "execution_count": 42,
   "metadata": {},
   "outputs": [
    {
     "data": {
      "text/plain": [
       "tensor([[128000,     82,   3013,   5469,     69,    198,     82,   3013,   5469,\n",
       "             69,    198,     82,   3013,   5469,     69,    198,     82,   3013,\n",
       "           5469,     69,    198,     82,   3013,   5469,     69,    198,     82,\n",
       "           3013,   5469,     69,    198,     82,   3013,   5469,     69,    198,\n",
       "             82,   3013,   5469,     69,    198,     82,   3013,   5469,     69,\n",
       "            198,     82,   3013,   5469,     69,    198,     82,   3013,   5469,\n",
       "             69,    198,     82,   3013,   5469,     69,    198,     82,   3013,\n",
       "           5469,     69,    198,     82,   3013,   5469],\n",
       "        [128000,     82,   3013,   5469,     69,    198,     82,   3013,   5469,\n",
       "             69,    198,     82,   3013,   5469,     69,    198,     82,   3013,\n",
       "           5469,     69,    198,     82,   3013,   5469,     69,    198,     82,\n",
       "           3013,   5469,     69,    198,     82,   3013,   5469,     69,    198,\n",
       "             82,   3013,   5469,     69,    198,     82,   3013,   5469,     69,\n",
       "            198,     82,   3013,   5469,     69,    198,     82,   3013,   5469,\n",
       "             69,    198,     82,   3013,   5469,     69,    198,     82,   3013,\n",
       "           5469,     69,    198,     82,   3013,   5469]])"
      ]
     },
     "execution_count": 42,
     "metadata": {},
     "output_type": "execute_result"
    }
   ],
   "source": [
    "output"
   ]
  },
  {
   "cell_type": "code",
   "execution_count": 32,
   "metadata": {},
   "outputs": [],
   "source": [
    "import re\n",
    "def get_ans_words_chard(clue):\n",
    "    # Regular expression to match strings inside parentheses\n",
    "    pattern = r'\\((.*?)\\)'\n",
    "    # Find all matches\n",
    "    matches = re.findall(pattern, clue)[-1]\n",
    "\n",
    "    numbers = matches.split(',')\n",
    "\n",
    "    return len(numbers), matches\n",
    "\n",
    "\n",
    "\n",
    "def crop_predictions(clues, predictions):\n",
    "\n",
    "    lengthes = []\n",
    "    for clue in clues:\n",
    "        lengthes.append(get_ans_words_chard(clue)[1])\n",
    "\n",
    "    cropped_predictions = []\n",
    "    for i, pred in enumerate(predictions):\n",
    "        cleaned_text = []\n",
    "        pred_words = pred.split(' ')\n",
    "\n",
    "        for word, length in zip(pred_words, lengthes[i]):\n",
    "            cleaned_text.append(word[:length])\n",
    "        cropped_predictions.append(' '.join(cleaned_text))\n",
    "\n",
    "    return cropped_predictions\n",
    "\n",
    "\n"
   ]
  },
  {
   "cell_type": "code",
   "execution_count": 45,
   "metadata": {},
   "outputs": [
    {
     "name": "stdout",
     "output_type": "stream",
     "text": [
      "{'input': 'sdfsdf', 'target': 'sdfsdfsdf', 'prompt': 'You are a cryptic crossword expert. You are given a clue for a cryptic crossword. Output only the answer. \\nclue:\\nsdfsdf\\noutput:\\nsdfsdfsdf\\n'}\n"
     ]
    }
   ],
   "source": [
    "from utils import generate_prompt\n",
    "\n",
    "example = { 'input': 'sdfsdf', 'target': 'sdfsdfsdf'}\n",
    "print (generate_prompt(example, 'LLAMA3_BASE_PROMPT', True))\n",
    "\n"
   ]
  }
 ],
 "metadata": {
  "kernelspec": {
   "display_name": "Python 3 (ipykernel)",
   "language": "python",
   "name": "python3"
  },
  "language_info": {
   "codemirror_mode": {
    "name": "ipython",
    "version": 3
   },
   "file_extension": ".py",
   "mimetype": "text/x-python",
   "name": "python",
   "nbconvert_exporter": "python",
   "pygments_lexer": "ipython3",
   "version": "3.10.12"
  }
 },
 "nbformat": 4,
 "nbformat_minor": 4
}
